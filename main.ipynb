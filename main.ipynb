{
 "cells": [
  {
   "cell_type": "markdown",
   "id": "0944a5fe-78b7-49dd-a29c-f9a9162677d9",
   "metadata": {},
   "source": [
    "- first  i want to take number of box in archive\n",
    "\n",
    "- afer that i want to write a def count for us the time that each name is exist in list that filled by people"
   ]
  },
  {
   "cell_type": "markdown",
   "id": "9400c5a2-cc15-4041-be3a-6ab29f14eb03",
   "metadata": {
    "tags": []
   },
   "source": [
    " #### give number from sina\n"
   ]
  },
  {
   "cell_type": "code",
   "execution_count": 1,
   "id": "e9f6e3e7-1c06-4a9e-9a0e-9152c4fb70a9",
   "metadata": {},
   "outputs": [
    {
     "name": "stdin",
     "output_type": "stream",
     "text": [
      " 3\n"
     ]
    }
   ],
   "source": [
    "archive_num = int(input())"
   ]
  },
  {
   "cell_type": "markdown",
   "id": "d61cadbf-4a89-4107-8412-e2347f3f251d",
   "metadata": {
    "tags": []
   },
   "source": [
    "#### def for wirte list of dead people"
   ]
  },
  {
   "cell_type": "code",
   "execution_count": 2,
   "id": "2aeb2ab7-4550-4f17-8d73-a6a1c0c0bb76",
   "metadata": {},
   "outputs": [],
   "source": [
    "people_fill = []\n",
    "\n",
    "def list_fillbox(countinu = 'y', *arg, **kwarg):\n",
    "    \n",
    "    while countinu == 'y':\n",
    "        people_fill.append(input())\n",
    "        duplicate_people_fill = list(dict.fromkeys(nima_list))\n",
    "        countinu = input(f'do you want keep input?')\n",
    "    return people_fill, duplicate_people_fill "
   ]
  },
  {
   "cell_type": "markdown",
   "id": "b13842f7-7d9e-4599-918a-b7d77976fd96",
   "metadata": {},
   "source": [
    "#### finde the duplitcate name"
   ]
  },
  {
   "cell_type": "code",
   "execution_count": 3,
   "id": "b75d2dbc-a90a-410b-b922-c21d26d0d2f3",
   "metadata": {},
   "outputs": [
    {
     "name": "stdin",
     "output_type": "stream",
     "text": [
      " stive\n",
      "do you want keep input? y\n",
      " karimi\n",
      "do you want keep input? y\n",
      " bageri\n",
      "do you want keep input? y\n",
      " karimi\n",
      "do you want keep input? y\n",
      " bageri\n",
      "do you want keep input? n\n"
     ]
    }
   ],
   "source": [
    "duplicate_people_fill = list_fillbox()[1]"
   ]
  },
  {
   "cell_type": "markdown",
   "id": "f5f50112-7143-40ad-b8f7-843e2089cdcb",
   "metadata": {},
   "source": [
    "#### counter time of name"
   ]
  },
  {
   "cell_type": "code",
   "execution_count": 5,
   "id": "a8d491c3-f6d8-4432-a6fc-0c2df4e3e8fb",
   "metadata": {},
   "outputs": [],
   "source": [
    "number_of_repetetive_name = {}\n",
    "def counter_repetetive_name(list1=[], list2=[]):\n",
    "    for i in list1:\n",
    "        name = i\n",
    "        number_of_repetetive_name[name] = list2.count(i)\n",
    "    return number_of_repetetive_name"
   ]
  },
  {
   "cell_type": "code",
   "execution_count": 6,
   "id": "ef44c1ec-a930-4340-8766-bdb59635b8c5",
   "metadata": {},
   "outputs": [],
   "source": [
    "people_repeats = counter_repetetive_name(duplicate_nima_list, people_fill)"
   ]
  },
  {
   "cell_type": "markdown",
   "id": "ccba2f67-b6cb-4ba2-8490-475701488978",
   "metadata": {
    "tags": []
   },
   "source": [
    "#### finde the fake grave"
   ]
  },
  {
   "cell_type": "code",
   "execution_count": 8,
   "id": "15cafce7-c0e3-4a91-8324-34187e60333c",
   "metadata": {},
   "outputs": [],
   "source": [
    "for i in list(people_num.keys()) :\n",
    "    if people_repeats[i] == 1:\n",
    "        fake_box = i\n",
    "        break\n",
    "    elif people_repeats[i] % 2 == 1:\n",
    "        fake_box = i\n",
    "        break\n",
    "        "
   ]
  }
 ],
 "metadata": {
  "kernelspec": {
   "display_name": "Python 3 (ipykernel)",
   "language": "python",
   "name": "python3"
  },
  "language_info": {
   "codemirror_mode": {
    "name": "ipython",
    "version": 3
   },
   "file_extension": ".py",
   "mimetype": "text/x-python",
   "name": "python",
   "nbconvert_exporter": "python",
   "pygments_lexer": "ipython3",
   "version": "3.9.12"
  }
 },
 "nbformat": 4,
 "nbformat_minor": 5
}
